{
 "cells": [
  {
   "cell_type": "code",
   "execution_count": null,
   "metadata": {},
   "outputs": [],
   "source": [
    "import os\n",
    "from utils import read_pickle, merge_files"
   ]
  },
  {
   "cell_type": "code",
   "execution_count": null,
   "metadata": {},
   "outputs": [],
   "source": [
    "# before running this notebook, three separate files should be downloaded.\n",
    "# refer to \"note_download.txt\"\n",
    "\n",
    "parts = ['part_01','part_02','part_03']         # separate files\n",
    "\n",
    "# check if files exist\n",
    "if all(list(map(os.path.isfile,parts))):\n",
    "   print('All separate files exist.')\n",
    "else:\n",
    "   raise RuntimeError('part files should be downloaded first. Please read note_download.txt')"
   ]
  },
  {
   "cell_type": "code",
   "execution_count": null,
   "metadata": {},
   "outputs": [],
   "source": [
    "pickle_file = 'dataset.pkl'     # pixkle file including datasets\n",
    "\n",
    "# merging files\n",
    "merge_files(pickle_file, parts)"
   ]
  },
  {
   "cell_type": "code",
   "execution_count": null,
   "metadata": {},
   "outputs": [],
   "source": [
    "# reading pickle file\n",
    "otdata = read_pickle(pickle_file)\n",
    "\n",
    "# input: training set (CSLC-S1 amplitude image, 256x256; x1: reference, x2: secondary)\n",
    "x1_train = otdata['x1_train']\n",
    "x2_train = otdata['x2_train']\n",
    "\n",
    "# output: training set (offset tracking results, 2 channels: offsets in northing / easting)\n",
    "t_train  = otdata['t_train']\n",
    "\n",
    "# input: test set (SAR amplitude image, 256x256)\n",
    "x1_test  = otdata['x1_test']\n",
    "x2_test  = otdata['x2_test']\n",
    "\n",
    "# output: test set (offset tracking results, 2 channels)\n",
    "t_test   = otdata['t_test']\n",
    "\n",
    "# input: validation set (SAR amplitude image, 256x256)\n",
    "x1_val   = otdata['x1_val']\n",
    "x2_val   = otdata['x2_val']\n",
    "\n",
    "# output: validation set (offset tracking results, 2 channels)\n",
    "t_val    = otdata['t_val']"
   ]
  }
 ],
 "metadata": {
  "kernelspec": {
   "display_name": "insar",
   "language": "python",
   "name": "python3"
  },
  "language_info": {
   "codemirror_mode": {
    "name": "ipython",
    "version": 3
   },
   "file_extension": ".py",
   "mimetype": "text/x-python",
   "name": "python",
   "nbconvert_exporter": "python",
   "pygments_lexer": "ipython3",
   "version": "3.11.3"
  }
 },
 "nbformat": 4,
 "nbformat_minor": 2
}
